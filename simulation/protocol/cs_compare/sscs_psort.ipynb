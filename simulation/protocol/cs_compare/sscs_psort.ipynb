{
 "cells": [
  {
   "cell_type": "code",
   "execution_count": 1,
   "metadata": {},
   "outputs": [
    {
     "name": "stderr",
     "output_type": "stream",
     "text": [
      "c:\\Users\\baozi\\.conda\\envs\\umap\\Lib\\site-packages\\tqdm\\auto.py:21: TqdmWarning: IProgress not found. Please update jupyter and ipywidgets. See https://ipywidgets.readthedocs.io/en/stable/user_install.html\n",
      "  from .autonotebook import tqdm as notebook_tqdm\n"
     ]
    }
   ],
   "source": [
    "import numpy as np\n",
    "import umap\n",
    "from sklearn.decomposition import PCA\n",
    "import matplotlib.pyplot as plt\n",
    "from scipy.io import loadmat\n",
    "from tqdm import tqdm"
   ]
  },
  {
   "cell_type": "code",
   "execution_count": 2,
   "metadata": {},
   "outputs": [],
   "source": [
    "fs = 50000\n",
    "fs_ms = 50\n",
    "pre_ms = 1\n",
    "post_ms = 10"
   ]
  },
  {
   "cell_type": "code",
   "execution_count": 5,
   "metadata": {},
   "outputs": [],
   "source": [
    "psort_filename = 'all_waveform.mat'\n",
    "data = loadmat(psort_filename)\n",
    "\n",
    "cs_waveform = np.zeros((0,fs_ms*(pre_ms+post_ms)+1))\n",
    "cs_idx = []\n",
    "\n",
    "for i in range(len(data['all_cs_waveform'])):\n",
    "    w = np.array(data['all_cs_waveform'][i][0])\n",
    "    cs_waveform = np.concatenate([cs_waveform,w.T],axis=0)\n",
    "    cs_idx.extend([i]*np.size(w,1))"
   ]
  },
  {
   "cell_type": "code",
   "execution_count": 6,
   "metadata": {},
   "outputs": [],
   "source": [
    "# UMAP for recorded CS waveform\n",
    "reducer_waveform = umap.UMAP()\n",
    "embedding_waveform = reducer_waveform.fit_transform(cs_waveform)\n",
    "\n",
    "pca_waveform = PCA(2)\n",
    "pc_waveform = pca_waveform.fit_transform(cs_waveform)"
   ]
  },
  {
   "cell_type": "code",
   "execution_count": 7,
   "metadata": {},
   "outputs": [],
   "source": [
    "%matplotlib tk\n",
    "plt.figure()\n",
    "plt.subplot(211)\n",
    "plt.plot(cs_waveform[np.array(cs_idx)==0,:].T)\n",
    "plt.subplot(212)\n",
    "plt.plot(np.diff(cs_waveform[np.array(cs_idx)==0,:],axis=-1).T)\n",
    "plt.show()"
   ]
  },
  {
   "cell_type": "code",
   "execution_count": 8,
   "metadata": {},
   "outputs": [],
   "source": [
    "%matplotlib tk\n",
    "# %matplotlib inline\n",
    "plt.figure()\n",
    "plt.title('UMAP waveform')\n",
    "plt.scatter(\n",
    "    embedding_waveform[:, 0],\n",
    "    embedding_waveform[:, 1],c='r')\n",
    "plt.gca().set_aspect('equal', 'datalim')\n",
    "\n",
    "for i, txt in enumerate(cs_idx):\n",
    "    plt.annotate(txt, (embedding_waveform[i, 0], embedding_waveform[i, 1]))\n",
    "\n",
    "# PCA\n",
    "plt.figure()\n",
    "plt.title('PCA waveform')\n",
    "plt.scatter(\n",
    "    pc_waveform[:, 0],\n",
    "    pc_waveform[:, 1],c='r')\n",
    "plt.gca().set_aspect('equal', 'datalim')\n",
    "\n",
    "for i, txt in enumerate(cs_idx):\n",
    "    plt.annotate(txt, (pc_waveform[i, 0], pc_waveform[i, 1]))\n"
   ]
  }
 ],
 "metadata": {
  "kernelspec": {
   "display_name": "umap",
   "language": "python",
   "name": "python3"
  },
  "language_info": {
   "codemirror_mode": {
    "name": "ipython",
    "version": 3
   },
   "file_extension": ".py",
   "mimetype": "text/x-python",
   "name": "python",
   "nbconvert_exporter": "python",
   "pygments_lexer": "ipython3",
   "version": "3.12.3"
  }
 },
 "nbformat": 4,
 "nbformat_minor": 2
}
