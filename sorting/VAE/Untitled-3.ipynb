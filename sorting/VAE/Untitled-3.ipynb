{
 "cells": [
  {
   "cell_type": "markdown",
   "metadata": {},
   "source": [
    "complex spikes overlapping, model seen samples in training set, accuracy not accurate. "
   ]
  },
  {
   "cell_type": "code",
   "execution_count": 6,
   "metadata": {},
   "outputs": [
    {
     "name": "stdout",
     "output_type": "stream",
     "text": [
      "(64, 6122790)\n",
      "(37,)\n"
     ]
    }
   ],
   "source": [
    "import os\n",
    "import numpy as np\n",
    "import matplotlib.pyplot as plt\n",
    "\n",
    "# os.chdir('/Users/xiao-zy19/Desktop/good_cs/Zhenyu')\n",
    "\n",
    "data_buf = np.load('data.npy')\n",
    "index_buf = np.load('index.npy')\n",
    "data = data_buf[:1055000]\n",
    "index = index_buf[index_buf < 1055000].astype(int)\n",
    "print(data.shape)\n",
    "print(index.shape)"
   ]
  },
  {
   "cell_type": "markdown",
   "metadata": {},
   "source": [
    "Sliding Window: try 20ms length (600 samples) and 5ms step (150 samples) for each window?"
   ]
  },
  {
   "cell_type": "code",
   "execution_count": 7,
   "metadata": {},
   "outputs": [],
   "source": [
    "# define a sliding window\n",
    "def sliding_window(data, window_size=600, stride=150):\n",
    "    window_data = np.zeros(((len(data)-window_size)//stride, window_size))\n",
    "    index = np.zeros(((len(data)-window_size)//stride, window_size))\n",
    "    for row in range((len(data)-window_size)//stride):\n",
    "        window_data[row, :] = data[row*stride:row*stride+window_size]\n",
    "        index[row, :] = np.arange(row*stride, row*stride+window_size) \n",
    "    return window_data, index\n",
    "\n",
    "windowed_data, windowed_index = sliding_window(data[53, :], window_size=600, stride=150)\n",
    "\n",
    "label = np.zeros(windowed_data.shape[0])\n",
    "for i in range(windowed_data.shape[0]):\n",
    "    if np.any(np.isin(windowed_index[i, :], index)):\n",
    "        label[i] = 1\n",
    "    else:\n",
    "        label[i] = 0"
   ]
  },
  {
   "cell_type": "code",
   "execution_count": 8,
   "metadata": {},
   "outputs": [],
   "source": [
    "import torch\n",
    "import torch.nn as nn\n",
    "import torch.nn.functional as F\n",
    "\n",
    "class ConvNet(nn.Module):\n",
    "    def __init__(self):\n",
    "        super(ConvNet, self).__init__()\n",
    "        self.conv1 = nn.Conv1d(in_channels=1, out_channels=16, kernel_size=7, padding='same')\n",
    "        self.bn1 = nn.BatchNorm1d(num_features=16)\n",
    "        self.conv2 = nn.Conv1d(in_channels=16, out_channels=32, kernel_size=5, padding='same')\n",
    "        self.bn2 = nn.BatchNorm1d(num_features=32)\n",
    "        self.conv3 = nn.Conv1d(in_channels=32, out_channels=64, kernel_size=3, padding='same')\n",
    "        self.bn3 = nn.BatchNorm1d(num_features=64)\n",
    "        self.global_avg_pool = nn.AdaptiveAvgPool1d(1)\n",
    "        # fc\n",
    "        self.fc1 = nn.Linear(64, 128)\n",
    "        self.fc2 = nn.Linear(128, 64)\n",
    "        self.fc3 = nn.Linear(64, 1)\n",
    "\n",
    "    def forward(self, x):\n",
    "        x = F.relu(self.bn1(self.conv1(x)))\n",
    "        x = F.relu(self.bn2(self.conv2(x)))\n",
    "        x = F.relu(self.bn3(self.conv3(x)))\n",
    "        x = self.global_avg_pool(x)\n",
    "        x = x.view(x.size(0), -1)\n",
    "        x = F.relu(self.fc1(x))\n",
    "        x = F.relu(self.fc2(x))\n",
    "        x = torch.sigmoid(self.fc3(x))\n",
    "        \n",
    "        return x "
   ]
  },
  {
   "cell_type": "code",
   "execution_count": 9,
   "metadata": {},
   "outputs": [
    {
     "name": "stdout",
     "output_type": "stream",
     "text": [
      "torch.Size([193, 1, 600]) torch.Size([49, 1, 600]) torch.Size([193, 1]) torch.Size([49, 1])\n",
      "Epoch 1/10, Loss: 0.6906640529632568\n",
      "Epoch 2/10, Loss: 0.7226507663726807\n",
      "Epoch 3/10, Loss: 0.7262158989906311\n",
      "Epoch 4/10, Loss: 0.6756369471549988\n",
      "Epoch 5/10, Loss: 0.6277449727058411\n",
      "Epoch 6/10, Loss: 0.9014409780502319\n",
      "Epoch 7/10, Loss: 0.5537046790122986\n",
      "Epoch 8/10, Loss: 0.5201243162155151\n",
      "Epoch 9/10, Loss: 0.4180636703968048\n",
      "Epoch 10/10, Loss: 1.164966344833374\n",
      "Accuracy on test set: 100.0%\n"
     ]
    }
   ],
   "source": [
    "# emmm, similar data in train set and the test set？\n",
    "from sklearn.model_selection import train_test_split\n",
    "from torch.utils.data import TensorDataset, DataLoader\n",
    "import torch\n",
    "\n",
    "data_tensor = torch.tensor(windowed_data[:, None, :], dtype=torch.float32) \n",
    "label_tensor = torch.tensor(label, dtype=torch.float32).unsqueeze(1)\n",
    "\n",
    "# balance the dataset\n",
    "positive_index = np.where(label == 1)[0]\n",
    "negative_index = np.where(label == 0)[0]\n",
    "np.random.seed(42)\n",
    "negative_index = np.random.choice(negative_index, size=positive_index.shape[0], replace=False)\n",
    "data_tensor = torch.cat((data_tensor[positive_index], data_tensor[negative_index]), dim=0)\n",
    "label_tensor = torch.cat((label_tensor[positive_index], label_tensor[negative_index]), dim=0)\n",
    "\n",
    "X_train, X_test, y_train, y_test = train_test_split(data_tensor, label_tensor, test_size=0.2, random_state=42, stratify=label_tensor)\n",
    "print(X_train.shape, X_test.shape, y_train.shape, y_test.shape)\n",
    "\n",
    "# 创建训练和测试的TensorDataset\n",
    "train_dataset = TensorDataset(X_train, y_train)\n",
    "test_dataset = TensorDataset(X_test, y_test)\n",
    "\n",
    "# 创建DataLoader\n",
    "train_loader = DataLoader(train_dataset, batch_size=64, shuffle=True)\n",
    "test_loader = DataLoader(test_dataset, batch_size=64, shuffle=False)\n",
    "\n",
    "# 定义模型、损失函数和优化器\n",
    "model = ConvNet()\n",
    "criterion = nn.BCELoss()\n",
    "optimizer = torch.optim.Adam(model.parameters(), lr=0.001)\n",
    "\n",
    "# 训练模型\n",
    "num_epochs = 10\n",
    "for epoch in range(num_epochs):\n",
    "    model.train()\n",
    "    for inputs, labels in train_loader:\n",
    "        optimizer.zero_grad()\n",
    "        outputs = model(inputs)\n",
    "        loss = criterion(outputs, labels)\n",
    "        loss.backward()\n",
    "        optimizer.step()\n",
    "    \n",
    "    print(f'Epoch {epoch+1}/{num_epochs}, Loss: {loss.item()}')\n",
    "model.eval() \n",
    "with torch.no_grad():\n",
    "    correct = 0\n",
    "    total = 0\n",
    "    for inputs, labels in test_loader:\n",
    "        outputs = model(inputs)\n",
    "        predicted = (outputs.data > 0.5).float()  # 使用0.5作为阈值来判断预测类别\n",
    "        total += labels.size(0)\n",
    "        correct += (predicted == labels).sum().item()\n",
    "\n",
    "accuracy = 100 * correct / total\n",
    "print(f'Accuracy on test set: {accuracy}%')"
   ]
  },
  {
   "cell_type": "code",
   "execution_count": 10,
   "metadata": {},
   "outputs": [],
   "source": [
    "# import matplotlib.pyplot as plt\n",
    "\n",
    "# plt.figure()\n",
    "# for i in range(len(index)):\n",
    "#     plt.plot(np.arange(0, 600), data[53, index[i]-200:index[i]+400])\n",
    "# plt.show()\n",
    "\n",
    "\n",
    "# def a cnn1d model to extract features from windowed data\n",
    "# import torch\n",
    "# import torch.nn as nn\n",
    "# import torch.nn.functional as F\n",
    "# from torch.autograd import Variable\n",
    "\n",
    "# class CNN1D(nn.Module):\n",
    "#     def __init__(self):\n",
    "#         super(CNN1D, self).__init__()\n",
    "#         self.conv1 = nn.Conv1d(in_channels=1, out_channels=16, kernel_size=3, stride=1, padding=1)\n",
    "#         self.pool1 = nn.MaxPool1d(kernel_size=2, stride=2)\n",
    "#         self.conv2 = nn.Conv1d(in_channels=16, out_channels=32, kernel_size=3, stride=1, padding=1)\n",
    "#         self.pool2 = nn.MaxPool1d(kernel_size=2, stride=2)\n",
    "#         self.fc1 = nn.Linear(32*150, 128)\n",
    "#         self.fc2 = nn.Linear(128, 64)\n",
    "#         self.fc3 = nn.Linear(64, 1)\n",
    "        \n",
    "#     def forward(self, x):\n",
    "#         x = F.relu(self.conv1(x))\n",
    "#         x = self.pool1(x)\n",
    "#         x = F.relu(self.conv2(x))\n",
    "#         x = self.pool2(x)\n",
    "#         x = x.view(-1, 32*150)\n",
    "#         x = F.relu(self.fc1(x))\n",
    "#         x = F.relu(self.fc2(x))\n",
    "#         x = self.fc3(x)\n",
    "#         return x"
   ]
  }
 ],
 "metadata": {
  "kernelspec": {
   "display_name": "bds",
   "language": "python",
   "name": "python3"
  },
  "language_info": {
   "codemirror_mode": {
    "name": "ipython",
    "version": 3
   },
   "file_extension": ".py",
   "mimetype": "text/x-python",
   "name": "python",
   "nbconvert_exporter": "python",
   "pygments_lexer": "ipython3",
   "version": "3.9.18"
  }
 },
 "nbformat": 4,
 "nbformat_minor": 2
}
